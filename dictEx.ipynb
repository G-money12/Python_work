{
 "cells": [
  {
   "cell_type": "markdown",
   "metadata": {},
   "source": [
    "# 딕셔너리 (dictionary) Key , Value"
   ]
  },
  {
   "cell_type": "code",
   "execution_count": 11,
   "metadata": {},
   "outputs": [],
   "source": [
    "dic={'name':'홍길동','phone':'010-5555-4545','birth':'1118'}"
   ]
  },
  {
   "cell_type": "code",
   "execution_count": 12,
   "metadata": {},
   "outputs": [
    {
     "name": "stdout",
     "output_type": "stream",
     "text": [
      "{'name': '홍길동', 'phone': '010-5555-4545', 'birth': '1118'}\n",
      "홍길동\n",
      "010-5555-4545\n",
      "1118\n"
     ]
    }
   ],
   "source": [
    "print(dic)\n",
    "print(dic['name']) # 밸류를 가져온다.\n",
    "print(dic['phone'])\n",
    "print(dic['birth'])"
   ]
  },
  {
   "cell_type": "code",
   "execution_count": 13,
   "metadata": {},
   "outputs": [
    {
     "name": "stdout",
     "output_type": "stream",
     "text": [
      "{'name': '홍길동', 'phone': '010-5555-4545', 'birth': '1118', 'gender': '남자', 'age': 20}\n"
     ]
    }
   ],
   "source": [
    "dic['gender']='남자'\n",
    "dic['age']=20\n",
    "print(dic)"
   ]
  },
  {
   "cell_type": "code",
   "execution_count": null,
   "metadata": {},
   "outputs": [
    {
     "name": "stdout",
     "output_type": "stream",
     "text": [
      "{'name': '홍길동', 'phone': '010-5555-4545', 'birth': '1118', 'gender': '남자'}\n"
     ]
    }
   ],
   "source": [
    "del dic['age']\n",
    "print(dic)\n"
   ]
  },
  {
   "cell_type": "code",
   "execution_count": null,
   "metadata": {},
   "outputs": [
    {
     "name": "stdout",
     "output_type": "stream",
     "text": [
      "dict_keys(['name', 'phone', 'birth', 'gender'])\n",
      "dict_values(['홍길동', '010-5555-4545', '1118', '남자'])\n"
     ]
    }
   ],
   "source": [
    "print(dic.keys())           # key 값만\n",
    "print(dic.values())         # Value 값만"
   ]
  },
  {
   "cell_type": "code",
   "execution_count": null,
   "metadata": {},
   "outputs": [
    {
     "name": "stdout",
     "output_type": "stream",
     "text": [
      "{'name': 'bbc', 'phone': '010-5555-4545', 'birth': '1118', 'gender': '남자'}\n"
     ]
    }
   ],
   "source": [
    "dic['name']=\"bbc\"   # key 값을 같은것 만들수 없다. value 값을 바꾸었다.\n",
    "print(dic)"
   ]
  },
  {
   "cell_type": "code",
   "execution_count": null,
   "metadata": {},
   "outputs": [
    {
     "name": "stdout",
     "output_type": "stream",
     "text": [
      "{1: 'bbc'}\n"
     ]
    }
   ],
   "source": [
    "d1={1:\"abc\", 1:\"bbc\"}  # key 가 중복되면 마지막 넘만 입력된다.\n",
    "print(d1)"
   ]
  },
  {
   "cell_type": "code",
   "execution_count": 20,
   "metadata": {},
   "outputs": [
    {
     "data": {
      "text/plain": [
       "{1: 'hi', 2: 'hi'}"
      ]
     },
     "execution_count": 20,
     "metadata": {},
     "output_type": "execute_result"
    }
   ],
   "source": [
    "# d1={[1,2]:\"hi\"}     # list로 key 값으로 줄수 없다.\n",
    "d2={1:\"hi\",2:\"hi\"}  # 요렇게 넣어주세요\n",
    "d2"
   ]
  },
  {
   "cell_type": "code",
   "execution_count": null,
   "metadata": {},
   "outputs": [
    {
     "name": "stdout",
     "output_type": "stream",
     "text": [
      "dict_items([('name', 'bbc'), ('phone', '010-5555-4545'), ('birth', '1118'), ('gender', '남자')])\n"
     ]
    },
    {
     "ename": "TypeError",
     "evalue": "'dict_items' object is not subscriptable",
     "output_type": "error",
     "traceback": [
      "\u001b[1;31m---------------------------------------------------------------------------\u001b[0m",
      "\u001b[1;31mTypeError\u001b[0m                                 Traceback (most recent call last)",
      "Cell \u001b[1;32mIn[24], line 3\u001b[0m\n\u001b[0;32m      1\u001b[0m result\u001b[38;5;241m=\u001b[39mdic\u001b[38;5;241m.\u001b[39mitems()\n\u001b[0;32m      2\u001b[0m \u001b[38;5;28mprint\u001b[39m(result)\n\u001b[1;32m----> 3\u001b[0m \u001b[38;5;28mprint\u001b[39m(result[\u001b[38;5;241m0\u001b[39m])\n",
      "\u001b[1;31mTypeError\u001b[0m: 'dict_items' object is not subscriptable"
     ]
    }
   ],
   "source": [
    "result=dic.items()\n",
    "print(result)"
   ]
  },
  {
   "cell_type": "code",
   "execution_count": 25,
   "metadata": {},
   "outputs": [
    {
     "name": "stdout",
     "output_type": "stream",
     "text": [
      "('name', 'bbc')\n",
      "('phone', '010-5555-4545')\n",
      "('birth', '1118')\n",
      "('gender', '남자')\n"
     ]
    }
   ],
   "source": [
    "for i in result:\n",
    "    print(i)"
   ]
  },
  {
   "cell_type": "code",
   "execution_count": 27,
   "metadata": {},
   "outputs": [
    {
     "name": "stdout",
     "output_type": "stream",
     "text": [
      "name : bbc\n",
      "phone : 010-5555-4545\n",
      "birth : 1118\n",
      "gender : 남자\n"
     ]
    }
   ],
   "source": [
    "for k,v in result:  # 갯수가 맞아야 한다.\n",
    "    print(k,':',v)"
   ]
  },
  {
   "cell_type": "code",
   "execution_count": 35,
   "metadata": {},
   "outputs": [
    {
     "ename": "KeyError",
     "evalue": "'name'",
     "output_type": "error",
     "traceback": [
      "\u001b[1;31m---------------------------------------------------------------------------\u001b[0m",
      "\u001b[1;31mKeyError\u001b[0m                                  Traceback (most recent call last)",
      "Cell \u001b[1;32mIn[35], line 5\u001b[0m\n\u001b[0;32m      2\u001b[0m dic\u001b[38;5;241m.\u001b[39mvalues()    \u001b[38;5;66;03m# dic에서 velues값만 가져와서 list 만든것이다\u001b[39;00m\n\u001b[0;32m      3\u001b[0m dic\u001b[38;5;241m.\u001b[39mitems()     \u001b[38;5;66;03m# dic에서 key, velues를 한쌍의 튜플로 만든것이다.isdisjoint\u001b[39;00m\n\u001b[1;32m----> 5\u001b[0m dic[\u001b[38;5;124m'\u001b[39m\u001b[38;5;124mname\u001b[39m\u001b[38;5;124m'\u001b[39m]     \u001b[38;5;66;03m# 추가\u001b[39;00m\n\u001b[0;32m      6\u001b[0m dic[\u001b[38;5;124m'\u001b[39m\u001b[38;5;124mage\u001b[39m\u001b[38;5;124m'\u001b[39m]\u001b[38;5;241m=\u001b[39m\u001b[38;5;241m20\u001b[39m   \u001b[38;5;66;03m# 추가\u001b[39;00m\n\u001b[0;32m      7\u001b[0m \u001b[38;5;28;01mdel\u001b[39;00m dic[\u001b[38;5;124m'\u001b[39m\u001b[38;5;124mage\u001b[39m\u001b[38;5;124m'\u001b[39m]  \u001b[38;5;66;03m# 제거\u001b[39;00m\n",
      "\u001b[1;31mKeyError\u001b[0m: 'name'"
     ]
    }
   ],
   "source": [
    "dic.keys()      # dic에서 key값만 가져와서 list 만든것이다\n",
    "dic.values()    # dic에서 velues값만 가져와서 list 만든것이다\n",
    "dic.items()     # dic에서 key, velues를 한쌍의 튜플로 만든것이다.isdisjoint\n",
    "\n",
    "dic['name']     # 추가\n",
    "dic['age']=20   # 추가\n",
    "del dic['age']  # 제거\n",
    "dic.clear()     # 몽땅 지우기\n",
    "dic\n"
   ]
  },
  {
   "cell_type": "markdown",
   "metadata": {},
   "source": [
    "1. 학생 5명의 이름과 점수로 dict를 생성하라.\n",
    "2. dict의 key를 모두 추출하라\n",
    "3. dict의 value를 모두 추출하라.\n",
    "4. 본인의 이름과 점수를 사용하여 새로운 데이터를 추가하라.\n",
    "5. 딕셔너리의 모든 item을 key와 value을 쌍으로 tuple를 생성하라.\n",
    "6. 본인의 이름으로 추가된 데이터를 삭제하라."
   ]
  },
  {
   "cell_type": "code",
   "execution_count": 50,
   "metadata": {},
   "outputs": [
    {
     "data": {
      "text/plain": [
       "{'Park': '100', 'Lee': '99', 'Kim': '85', 'jung': '70', 'hang': '98'}"
      ]
     },
     "execution_count": 50,
     "metadata": {},
     "output_type": "execute_result"
    }
   ],
   "source": [
    "dict={'Park':'100','Lee':'99','Kim':'85','jung':'70','hang':'98'}\n",
    "dict\n",
    "\n",
    "\n",
    "\n"
   ]
  },
  {
   "cell_type": "code",
   "execution_count": 51,
   "metadata": {},
   "outputs": [
    {
     "data": {
      "text/plain": [
       "dict_keys(['Park', 'Lee', 'Kim', 'jung', 'hang'])"
      ]
     },
     "execution_count": 51,
     "metadata": {},
     "output_type": "execute_result"
    }
   ],
   "source": [
    "dict.keys()\n"
   ]
  },
  {
   "cell_type": "code",
   "execution_count": 52,
   "metadata": {},
   "outputs": [
    {
     "data": {
      "text/plain": [
       "dict_values(['100', '99', '85', '70', '98'])"
      ]
     },
     "execution_count": 52,
     "metadata": {},
     "output_type": "execute_result"
    }
   ],
   "source": [
    "dict.values()"
   ]
  },
  {
   "cell_type": "code",
   "execution_count": 53,
   "metadata": {},
   "outputs": [
    {
     "data": {
      "text/plain": [
       "{'Park': '100', 'Lee': '99', 'Kim': '85', 'jung': '70', 'hang': '98', 'G': 90}"
      ]
     },
     "execution_count": 53,
     "metadata": {},
     "output_type": "execute_result"
    }
   ],
   "source": [
    "dict['G']=90\n",
    "dict"
   ]
  },
  {
   "cell_type": "code",
   "execution_count": 55,
   "metadata": {},
   "outputs": [
    {
     "data": {
      "text/plain": [
       "dict_items([('Park', '100'), ('Lee', '99'), ('Kim', '85'), ('jung', '70'), ('hang', '98'), ('G', 90)])"
      ]
     },
     "execution_count": 55,
     "metadata": {},
     "output_type": "execute_result"
    }
   ],
   "source": [
    "dict.items()"
   ]
  },
  {
   "cell_type": "code",
   "execution_count": 63,
   "metadata": {},
   "outputs": [
    {
     "name": "stdout",
     "output_type": "stream",
     "text": [
      "dict_items([('Park', '100'), ('Lee', '99'), ('Kim', '85'), ('jung', '70'), ('hang', '98')])\n",
      "Park , 100\n",
      "Lee , 99\n",
      "Kim , 85\n",
      "jung , 70\n",
      "hang , 98\n"
     ]
    }
   ],
   "source": [
    "result=dict.items()\n",
    "print(result)\n",
    "for k,v in result:\n",
    "    print(k,',',v)"
   ]
  },
  {
   "cell_type": "code",
   "execution_count": 56,
   "metadata": {},
   "outputs": [
    {
     "data": {
      "text/plain": [
       "{'Park': '100', 'Lee': '99', 'Kim': '85', 'jung': '70', 'hang': '98'}"
      ]
     },
     "execution_count": 56,
     "metadata": {},
     "output_type": "execute_result"
    }
   ],
   "source": [
    "del dict['G']\n",
    "dict"
   ]
  }
 ],
 "metadata": {
  "kernelspec": {
   "display_name": "base",
   "language": "python",
   "name": "python3"
  },
  "language_info": {
   "codemirror_mode": {
    "name": "ipython",
    "version": 3
   },
   "file_extension": ".py",
   "mimetype": "text/x-python",
   "name": "python",
   "nbconvert_exporter": "python",
   "pygments_lexer": "ipython3",
   "version": "3.12.7"
  }
 },
 "nbformat": 4,
 "nbformat_minor": 2
}
