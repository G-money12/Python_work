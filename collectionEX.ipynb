{
 "cells": [
  {
   "cell_type": "markdown",
   "metadata": {},
   "source": [
    "OrderedDict 모듈은 딕셔너리를 key를 기준으로 정렬 , values를 기준으로 정렬"
   ]
  },
  {
   "cell_type": "code",
   "execution_count": 2,
   "metadata": {},
   "outputs": [
    {
     "name": "stdout",
     "output_type": "stream",
     "text": [
      "x 100\n",
      "l 500\n",
      "y 200\n",
      "z 300\n"
     ]
    }
   ],
   "source": [
    "d=dict()\n",
    "d['x']=100\n",
    "d['l']=500\n",
    "d['y']=200\n",
    "d['z']=300\n",
    "\n",
    "d['y']\n",
    "for k,v in d.items():\n",
    "    print(k,v)"
   ]
  },
  {
   "cell_type": "code",
   "execution_count": null,
   "metadata": {},
   "outputs": [
    {
     "name": "stdout",
     "output_type": "stream",
     "text": [
      "l 500\n",
      "x 100\n",
      "y 200\n",
      "z 300\n"
     ]
    }
   ],
   "source": [
    "def sort_by_key(t):\n",
    "    return t[0]     # key 별로 순서화\n",
    "#   return t[1]       values 별로 순서화\n",
    "from collections import OrderedDict\n",
    "\n",
    "d=dict()\n",
    "d['x']=100      #('x',100),...)\n",
    "d['l']=500\n",
    "d['y']=200\n",
    "d['z']=300\n",
    "\n",
    "for k, v in OrderedDict(sorted(d.items(),key=sort_by_key)).items():\n",
    "    print(k,v)"
   ]
  },
  {
   "cell_type": "markdown",
   "metadata": {},
   "source": [
    "Defaultdict 모듈은 딕셔너리의 변수를 생성할 때 키에 기본 값을 지정하는 방법"
   ]
  },
  {
   "cell_type": "code",
   "execution_count": 8,
   "metadata": {},
   "outputs": [
    {
     "ename": "KeyError",
     "evalue": "'first'",
     "output_type": "error",
     "traceback": [
      "\u001b[1;31m---------------------------------------------------------------------------\u001b[0m",
      "\u001b[1;31mKeyError\u001b[0m                                  Traceback (most recent call last)",
      "Cell \u001b[1;32mIn[8], line 2\u001b[0m\n\u001b[0;32m      1\u001b[0m d\u001b[38;5;241m=\u001b[39m\u001b[38;5;28mdict\u001b[39m()\n\u001b[1;32m----> 2\u001b[0m \u001b[38;5;28mprint\u001b[39m(d[\u001b[38;5;124m'\u001b[39m\u001b[38;5;124mfirst\u001b[39m\u001b[38;5;124m'\u001b[39m])\n",
      "\u001b[1;31mKeyError\u001b[0m: 'first'"
     ]
    }
   ],
   "source": [
    "d=dict()\n",
    "print(d['first'])"
   ]
  },
  {
   "cell_type": "code",
   "execution_count": 9,
   "metadata": {},
   "outputs": [
    {
     "name": "stdout",
     "output_type": "stream",
     "text": [
      "0\n"
     ]
    }
   ],
   "source": [
    "from collections import defaultdict\n",
    "\n",
    "d=defaultdict(lambda:0)\n",
    "print(d['first'])\n"
   ]
  },
  {
   "cell_type": "code",
   "execution_count": null,
   "metadata": {},
   "outputs": [
    {
     "data": {
      "text/plain": [
       "{'yellow': 3, 'blue': 4, 'red': 5}"
      ]
     },
     "execution_count": 10,
     "metadata": {},
     "output_type": "execute_result"
    }
   ],
   "source": [
    "s=[('yellow',1),('blue',2),('yellow',3),('blue',4),('red',5)]\n",
    "d=dict()\n",
    "for k, v in s:\n",
    "    d[k]=v\n",
    "d"
   ]
  },
  {
   "cell_type": "code",
   "execution_count": 11,
   "metadata": {},
   "outputs": [
    {
     "name": "stdout",
     "output_type": "stream",
     "text": [
      "defaultdict(<class 'list'>, {'yellow': [1, 3], 'blue': [2, 4], 'red': [5]})\n"
     ]
    }
   ],
   "source": [
    "d=defaultdict(list)\n",
    "for k,v in s:\n",
    "    d[k].append(v)\n",
    "\n",
    "print(d)"
   ]
  },
  {
   "cell_type": "markdown",
   "metadata": {},
   "source": [
    "Counter 모듈은 시퀀스 자료형의 데이터 요소 개수를 딕셔너리 형태로 반환하는 자료구조"
   ]
  },
  {
   "cell_type": "code",
   "execution_count": 13,
   "metadata": {},
   "outputs": [
    {
     "data": {
      "text/plain": [
       "Counter({'t': 3,\n",
       "         'i': 2,\n",
       "         ' ': 2,\n",
       "         'h': 2,\n",
       "         'b': 1,\n",
       "         'g': 1,\n",
       "         'd': 1,\n",
       "         'a': 1,\n",
       "         'e': 1,\n",
       "         'w': 1,\n",
       "         'p': 1,\n",
       "         'y': 1,\n",
       "         'o': 1,\n",
       "         'n': 1})"
      ]
     },
     "execution_count": 13,
     "metadata": {},
     "output_type": "execute_result"
    }
   ],
   "source": [
    "from collections import Counter\n",
    "\n",
    "text=\"bigdate with python\"\n",
    "list1=list(text)\n",
    "list1\n",
    "c=Counter(list1)\n",
    "c"
   ]
  },
  {
   "cell_type": "code",
   "execution_count": 18,
   "metadata": {},
   "outputs": [],
   "source": [
    "s1='''\n",
    "President Donald Trump signed an executive order Tuesday to bring independent agencies under closer presidential control and supervision, directing all executive departments and agencies to submit draft regulations to the White House for review.\n",
    "The order states that “it shall be the policy of the executive branch to ensure Presidential supervision and control of the entire executive branch. Moreover, all executive departments and agencies, including so-called independent agencies, shall submit for review all proposed and final significant regulatory actions to the Office of Information and Regulatory Affairs (OIRA) within the Executive Office of the President before publication in the Federal Register.”\n",
    "According to a White House fact sheet, no carve-outs will exist for independent agencies, but the order will not apply to the monetary policy functions of the Federal Reserve.\n",
    "The agencies must also “consult with the White House on their priorities and strategic plans, and the White House will set their performance standards” with the Office of Management and Budget, led by Project 2025 co-author Russell Vought, “adjusting apportionments to ensure tax dollars are spent wisely,” according to the fact sheet.\n",
    "The White House fact sheet specifically calls out independent agencies, like the Federal Trade Commission (FTC), Federal Communications Commission (FCC), and Securities and Exchange Commission (SEC) for “exercising enormous power over the American people without Presidential oversight.”\n",
    "Public Citizen, a progressive advocacy group, has called the move “illegal” and a “giant gift to the corporate class.”\n",
    "'''"
   ]
  },
  {
   "cell_type": "code",
   "execution_count": 19,
   "metadata": {},
   "outputs": [
    {
     "data": {
      "text/plain": [
       "Counter({'the': 19,\n",
       "         'and': 12,\n",
       "         'to': 10,\n",
       "         'of': 6,\n",
       "         'executive': 5,\n",
       "         'White': 5,\n",
       "         'House': 5,\n",
       "         'independent': 4,\n",
       "         'for': 4,\n",
       "         'agencies,': 4,\n",
       "         'Federal': 4,\n",
       "         'order': 3,\n",
       "         'agencies': 3,\n",
       "         'all': 3,\n",
       "         'The': 3,\n",
       "         'Office': 3,\n",
       "         'a': 3,\n",
       "         'fact': 3,\n",
       "         'will': 3,\n",
       "         'Commission': 3,\n",
       "         'President': 2,\n",
       "         'control': 2,\n",
       "         'departments': 2,\n",
       "         'submit': 2,\n",
       "         'shall': 2,\n",
       "         'policy': 2,\n",
       "         'ensure': 2,\n",
       "         'Presidential': 2,\n",
       "         'with': 2,\n",
       "         'their': 2,\n",
       "         'Donald': 1,\n",
       "         'Trump': 1,\n",
       "         'signed': 1,\n",
       "         'an': 1,\n",
       "         'Tuesday': 1,\n",
       "         'bring': 1,\n",
       "         'under': 1,\n",
       "         'closer': 1,\n",
       "         'presidential': 1,\n",
       "         'supervision,': 1,\n",
       "         'directing': 1,\n",
       "         'draft': 1,\n",
       "         'regulations': 1,\n",
       "         'review.': 1,\n",
       "         'states': 1,\n",
       "         'that': 1,\n",
       "         '“it': 1,\n",
       "         'be': 1,\n",
       "         'branch': 1,\n",
       "         'supervision': 1,\n",
       "         'entire': 1,\n",
       "         'branch.': 1,\n",
       "         'Moreover,': 1,\n",
       "         'including': 1,\n",
       "         'so-called': 1,\n",
       "         'review': 1,\n",
       "         'proposed': 1,\n",
       "         'final': 1,\n",
       "         'significant': 1,\n",
       "         'regulatory': 1,\n",
       "         'actions': 1,\n",
       "         'Information': 1,\n",
       "         'Regulatory': 1,\n",
       "         'Affairs': 1,\n",
       "         '(OIRA)': 1,\n",
       "         'within': 1,\n",
       "         'Executive': 1,\n",
       "         'before': 1,\n",
       "         'publication': 1,\n",
       "         'in': 1,\n",
       "         'Register.”': 1,\n",
       "         'According': 1,\n",
       "         'sheet,': 1,\n",
       "         'no': 1,\n",
       "         'carve-outs': 1,\n",
       "         'exist': 1,\n",
       "         'but': 1,\n",
       "         'not': 1,\n",
       "         'apply': 1,\n",
       "         'monetary': 1,\n",
       "         'functions': 1,\n",
       "         'Reserve.': 1,\n",
       "         'must': 1,\n",
       "         'also': 1,\n",
       "         '“consult': 1,\n",
       "         'on': 1,\n",
       "         'priorities': 1,\n",
       "         'strategic': 1,\n",
       "         'plans,': 1,\n",
       "         'set': 1,\n",
       "         'performance': 1,\n",
       "         'standards”': 1,\n",
       "         'Management': 1,\n",
       "         'Budget,': 1,\n",
       "         'led': 1,\n",
       "         'by': 1,\n",
       "         'Project': 1,\n",
       "         '2025': 1,\n",
       "         'co-author': 1,\n",
       "         'Russell': 1,\n",
       "         'Vought,': 1,\n",
       "         '“adjusting': 1,\n",
       "         'apportionments': 1,\n",
       "         'tax': 1,\n",
       "         'dollars': 1,\n",
       "         'are': 1,\n",
       "         'spent': 1,\n",
       "         'wisely,”': 1,\n",
       "         'according': 1,\n",
       "         'sheet.': 1,\n",
       "         'sheet': 1,\n",
       "         'specifically': 1,\n",
       "         'calls': 1,\n",
       "         'out': 1,\n",
       "         'like': 1,\n",
       "         'Trade': 1,\n",
       "         '(FTC),': 1,\n",
       "         'Communications': 1,\n",
       "         '(FCC),': 1,\n",
       "         'Securities': 1,\n",
       "         'Exchange': 1,\n",
       "         '(SEC)': 1,\n",
       "         '“exercising': 1,\n",
       "         'enormous': 1,\n",
       "         'power': 1,\n",
       "         'over': 1,\n",
       "         'American': 1,\n",
       "         'people': 1,\n",
       "         'without': 1,\n",
       "         'oversight.”': 1,\n",
       "         'Public': 1,\n",
       "         'Citizen,': 1,\n",
       "         'progressive': 1,\n",
       "         'advocacy': 1,\n",
       "         'group,': 1,\n",
       "         'has': 1,\n",
       "         'called': 1,\n",
       "         'move': 1,\n",
       "         '“illegal”': 1,\n",
       "         '“giant': 1,\n",
       "         'gift': 1,\n",
       "         'corporate': 1,\n",
       "         'class.”': 1})"
      ]
     },
     "execution_count": 19,
     "metadata": {},
     "output_type": "execute_result"
    }
   ],
   "source": [
    "list1=s1.split()\n",
    "c=Counter(list1)\n",
    "c"
   ]
  },
  {
   "cell_type": "code",
   "execution_count": 23,
   "metadata": {},
   "outputs": [
    {
     "data": {
      "text/plain": [
       "Counter({'blue': 5, 'green': 4, 'red': 3})"
      ]
     },
     "execution_count": 23,
     "metadata": {},
     "output_type": "execute_result"
    }
   ],
   "source": [
    "c1=Counter({'red':3, 'blue':5, 'green':4})\n",
    "a=list(c1.elements())\n",
    "c2=Counter(a)\n",
    "c2"
   ]
  },
  {
   "cell_type": "code",
   "execution_count": 24,
   "metadata": {},
   "outputs": [
    {
     "data": {
      "text/plain": [
       "Counter({'a': 3, 'b': 3, 'c': 0, 'd': -2})"
      ]
     },
     "execution_count": 24,
     "metadata": {},
     "output_type": "execute_result"
    }
   ],
   "source": [
    "c=Counter(a=3,b=3,c=0,d=-2)\n",
    "c"
   ]
  }
 ],
 "metadata": {
  "kernelspec": {
   "display_name": "base",
   "language": "python",
   "name": "python3"
  },
  "language_info": {
   "codemirror_mode": {
    "name": "ipython",
    "version": 3
   },
   "file_extension": ".py",
   "mimetype": "text/x-python",
   "name": "python",
   "nbconvert_exporter": "python",
   "pygments_lexer": "ipython3",
   "version": "3.12.7"
  }
 },
 "nbformat": 4,
 "nbformat_minor": 2
}
