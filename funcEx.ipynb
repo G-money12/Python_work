{
 "cells": [
  {
   "cell_type": "markdown",
   "metadata": {},
   "source": [
    "# 제5장 함수"
   ]
  },
  {
   "cell_type": "markdown",
   "metadata": {},
   "source": [
    "입력값 O , 리턴값 O"
   ]
  },
  {
   "cell_type": "code",
   "execution_count": 1,
   "metadata": {},
   "outputs": [
    {
     "name": "stdout",
     "output_type": "stream",
     "text": [
      "7\n"
     ]
    }
   ],
   "source": [
    "def add(a, b):\n",
    "    return a+b\n",
    "\n",
    "result=add(3,4)\n",
    "print(result)"
   ]
  },
  {
   "cell_type": "markdown",
   "metadata": {},
   "source": [
    "입력값 X , 리턴값 O"
   ]
  },
  {
   "cell_type": "code",
   "execution_count": 2,
   "metadata": {},
   "outputs": [
    {
     "name": "stdout",
     "output_type": "stream",
     "text": [
      "hi\n"
     ]
    }
   ],
   "source": [
    "def say():\n",
    "    return \"hi\"\n",
    "#result=say()\n",
    "print(say())"
   ]
  },
  {
   "cell_type": "markdown",
   "metadata": {},
   "source": [
    "입력값 O , 리턴값 X"
   ]
  },
  {
   "cell_type": "code",
   "execution_count": 8,
   "metadata": {},
   "outputs": [
    {
     "name": "stdout",
     "output_type": "stream",
     "text": [
      "3 4\n",
      "None\n"
     ]
    }
   ],
   "source": [
    "def display(a,b):\n",
    "    print(a,b)\n",
    "\n",
    "result=display(3,4)\n",
    "print(result)       # 입력값이 없을때 none 출력해줌"
   ]
  },
  {
   "cell_type": "code",
   "execution_count": null,
   "metadata": {},
   "outputs": [
    {
     "name": "stdout",
     "output_type": "stream",
     "text": [
      "1\n",
      "3\n",
      "6\n",
      "10\n",
      "15\n"
     ]
    }
   ],
   "source": [
    "def sum(*a):        # Python 스타일 : 매개변수가 여러개일때 (* 아스트리크 )\n",
    "    sum=0\n",
    "    for i in a:\n",
    "        sum+=i\n",
    "    print(sum)\n",
    "\n",
    "    \n",
    "sum(1)              # Tuple 형태로 나옴\n",
    "sum(1,2)\n",
    "sum(1,2,3)\n",
    "sum(1,2,3,4)\n",
    "sum(1,2,3,4,5)\n"
   ]
  },
  {
   "cell_type": "code",
   "execution_count": 14,
   "metadata": {},
   "outputs": [
    {
     "name": "stdout",
     "output_type": "stream",
     "text": [
      "1\n",
      "('a',)\n",
      "a\n",
      "1\n",
      "(2, 'c')\n",
      "2 c\n",
      "1\n",
      "(2, 'c', [4, 3])\n",
      "2 c [4, 3]\n"
     ]
    }
   ],
   "source": [
    "def func1(a,*b):\n",
    "    print(a)\n",
    "    print(b)\n",
    "    print(*b)\n",
    "\n",
    "func1(1,\"a\")\n",
    "func1(1,2,\"c\")\n",
    "func1(1,2,\"c\",[4,3])"
   ]
  },
  {
   "cell_type": "code",
   "execution_count": null,
   "metadata": {},
   "outputs": [],
   "source": [
    "def add_mul(choice, *args):\n",
    "    if choice==\"add\":\n",
    "        result=0\n",
    "        for i in args:\n",
    "            result = result + i\n",
    "    elif choice == \"mul\":\n",
    "        result=1\n",
    "        for i in args:\n",
    "            result = result * i\n",
    "    return result\n"
   ]
  },
  {
   "cell_type": "markdown",
   "metadata": {},
   "source": [
    "키워드 매개변수, kwargs "
   ]
  },
  {
   "cell_type": "code",
   "execution_count": 16,
   "metadata": {},
   "outputs": [
    {
     "name": "stdout",
     "output_type": "stream",
     "text": [
      "20 홍길동\n"
     ]
    }
   ],
   "source": [
    "def func2(age, name):\n",
    "    print(age, name)\n",
    "\n",
    "func2(name=\"홍길동\", age=20)"
   ]
  },
  {
   "cell_type": "code",
   "execution_count": 21,
   "metadata": {},
   "outputs": [
    {
     "name": "stdout",
     "output_type": "stream",
     "text": [
      "{'name': '홍길동', 'age': 20}\n",
      "홍길동\n",
      "20\n",
      "홍길동\n",
      "20\n"
     ]
    }
   ],
   "source": [
    "def func3(**args):\n",
    "    print(args)\n",
    "    print(args['name'])\n",
    "    print(args['age'])\n",
    "    print(args.get(\"name\"))\n",
    "    print(args.get(\"age\"))\n",
    "\n",
    "func3(name='홍길동', age=20)\n"
   ]
  },
  {
   "cell_type": "code",
   "execution_count": 28,
   "metadata": {},
   "outputs": [
    {
     "name": "stdout",
     "output_type": "stream",
     "text": [
      "9 20 -1 0.8\n"
     ]
    }
   ],
   "source": [
    "def add_and_mul(a,b):\n",
    "    return a+b, a*b, a-b, a/b\n",
    "\n",
    "a,b,c,d=add_and_mul(4,5)\n",
    "print(a,b,c,d)"
   ]
  },
  {
   "cell_type": "code",
   "execution_count": 26,
   "metadata": {},
   "outputs": [
    {
     "name": "stdout",
     "output_type": "stream",
     "text": [
      "9\n"
     ]
    }
   ],
   "source": [
    "def add_and_mul1(a,b):\n",
    "    return a+b\n",
    "    return a*b\n",
    "result=add_and_mul1(4,5)\n",
    "print(result)"
   ]
  },
  {
   "cell_type": "code",
   "execution_count": 30,
   "metadata": {},
   "outputs": [
    {
     "name": "stdout",
     "output_type": "stream",
     "text": [
      "홍길동\n",
      "20\n",
      "남자\n",
      "홍길동\n",
      "20\n",
      "여자\n"
     ]
    }
   ],
   "source": [
    "def say_myself(name, age, man=True):\n",
    "    print(name)\n",
    "    print(age)\n",
    "    if man:\n",
    "        print(\"남자\")\n",
    "    else:\n",
    "        print(\"여자\")\n",
    "\n",
    "say_myself(\"홍길동\", 20)\n",
    "say_myself(\"홍길동\",20,False)"
   ]
  },
  {
   "cell_type": "markdown",
   "metadata": {},
   "source": [
    "a 라고 다 같은 a가 아니다"
   ]
  },
  {
   "cell_type": "code",
   "execution_count": null,
   "metadata": {},
   "outputs": [
    {
     "name": "stdout",
     "output_type": "stream",
     "text": [
      "20\n",
      "10\n"
     ]
    }
   ],
   "source": [
    "a=10\n",
    "def func():\n",
    "    global a        # 굳이 밖에 있는 a를 쓸때 global a \n",
    "    a=20\n",
    "    print(a)\n",
    "func()\n",
    "print(a)"
   ]
  },
  {
   "cell_type": "code",
   "execution_count": 33,
   "metadata": {},
   "outputs": [
    {
     "name": "stdout",
     "output_type": "stream",
     "text": [
      "20\n",
      "10\n"
     ]
    }
   ],
   "source": [
    "def func(a):\n",
    "    a=a+10\n",
    "    print(a)\n",
    "\n",
    "a=10\n",
    "func(a)\n",
    "print(a)"
   ]
  },
  {
   "cell_type": "code",
   "execution_count": 35,
   "metadata": {},
   "outputs": [
    {
     "name": "stdout",
     "output_type": "stream",
     "text": [
      "[11, 12, 13, 14]\n",
      "[11, 12, 13, 14]\n"
     ]
    }
   ],
   "source": [
    "def func(list1):\n",
    "    for i in range(len(list1)):\n",
    "        list1[i]+=10\n",
    "    print(list1)\n",
    "\n",
    "a=[1,2,3,4]\n",
    "func(a)\n",
    "print(a)"
   ]
  },
  {
   "cell_type": "markdown",
   "metadata": {},
   "source": [
    "String 은 기본 데이터 처럼 처리한다."
   ]
  },
  {
   "cell_type": "code",
   "execution_count": 37,
   "metadata": {},
   "outputs": [
    {
     "name": "stdout",
     "output_type": "stream",
     "text": [
      "bacadd\n",
      "bac\n"
     ]
    }
   ],
   "source": [
    "def func(str1):\n",
    "    str1+=\"add\"\n",
    "    print(str1)\n",
    "\n",
    "a=\"bac\"\n",
    "func(a)\n",
    "print(a)"
   ]
  },
  {
   "cell_type": "markdown",
   "metadata": {},
   "source": [
    "# Lambda \n",
    "함수_이름 = lambda 매개변수1, 매개변수2,... : 매개변수를_이용한_표현식\n",
    "\n",
    "간단한 처리할때 많이 씀"
   ]
  },
  {
   "cell_type": "code",
   "execution_count": 40,
   "metadata": {},
   "outputs": [
    {
     "name": "stdout",
     "output_type": "stream",
     "text": [
      "7\n"
     ]
    }
   ],
   "source": [
    "def add(a, b):\n",
    "    return a + b\n",
    "\n",
    "result = add(3,4)\n",
    "print(result)"
   ]
  },
  {
   "cell_type": "code",
   "execution_count": 41,
   "metadata": {},
   "outputs": [
    {
     "name": "stdout",
     "output_type": "stream",
     "text": [
      "7\n"
     ]
    }
   ],
   "source": [
    "add=lambda a,b:a+b\n",
    "result=add(3,4)\n",
    "print(result)"
   ]
  },
  {
   "cell_type": "code",
   "execution_count": 44,
   "metadata": {},
   "outputs": [
    {
     "data": {
      "text/plain": [
       "5"
      ]
     },
     "execution_count": 44,
     "metadata": {},
     "output_type": "execute_result"
    }
   ],
   "source": [
    "f=lambda x,y:x+y\n",
    "f(1,4)\n"
   ]
  },
  {
   "cell_type": "code",
   "execution_count": 45,
   "metadata": {},
   "outputs": [
    {
     "data": {
      "text/plain": [
       "9"
      ]
     },
     "execution_count": 45,
     "metadata": {},
     "output_type": "execute_result"
    }
   ],
   "source": [
    "fx=lambda x:x**2\n",
    "fx(3)"
   ]
  },
  {
   "cell_type": "markdown",
   "metadata": {},
   "source": [
    "# 4. 파일 입출력\n",
    "f = open(\"새파일.txt\",'w')\n",
    "\n",
    "f.close()\n",
    "\n",
    "r  읽기 모드 : 파일을 읽기만 할 때 사용한다. read\n",
    "\n",
    "w  쓰기 모드 : 파일에 내용을 쓸 때 사용한다. write\n",
    "\n",
    "a  추가 모드 : 파일의 마지막에 새로운 내용을 추가 할 때 사용한다. append"
   ]
  },
  {
   "cell_type": "code",
   "execution_count": null,
   "metadata": {},
   "outputs": [],
   "source": [
    "f=open(\"data/test.txt\",'w')\n",
    "f.write(\"가나다\")\n",
    "f.close()"
   ]
  },
  {
   "cell_type": "code",
   "execution_count": null,
   "metadata": {},
   "outputs": [],
   "source": [
    "f=open(\"data/test.txt\",'a')\n",
    "f.write(\"가나다\")\n",
    "f.close()"
   ]
  },
  {
   "cell_type": "code",
   "execution_count": 54,
   "metadata": {},
   "outputs": [
    {
     "name": "stdout",
     "output_type": "stream",
     "text": [
      "가나다ㄷㄷㄷ가나다\n"
     ]
    }
   ],
   "source": [
    "fr=open(\"data/test.txt\",'r')\n",
    "line=fr.readline()\n",
    "print(line)\n",
    "fr.close()"
   ]
  },
  {
   "cell_type": "code",
   "execution_count": null,
   "metadata": {},
   "outputs": [],
   "source": [
    "f=open(\"data/test02.txt\",'w')\n",
    "\n",
    "for i in range(1,11):\n",
    "    data=\"%d번째 줄입니다.\\n\"%i\n",
    "    f.write(data)    \n",
    "    data=f\"{i}번째 줄입니다\\n\"\n",
    "    f.write(data)\n",
    "f.close()"
   ]
  },
  {
   "cell_type": "code",
   "execution_count": 59,
   "metadata": {},
   "outputs": [
    {
     "name": "stdout",
     "output_type": "stream",
     "text": [
      "1번째 줄입니다.\n",
      "\n",
      "1번째 줄입니다\n",
      "\n",
      "2번째 줄입니다.\n",
      "\n",
      "2번째 줄입니다\n",
      "\n",
      "3번째 줄입니다.\n",
      "\n",
      "3번째 줄입니다\n",
      "\n",
      "4번째 줄입니다.\n",
      "\n",
      "4번째 줄입니다\n",
      "\n",
      "5번째 줄입니다.\n",
      "\n",
      "5번째 줄입니다\n",
      "\n",
      "6번째 줄입니다.\n",
      "\n",
      "6번째 줄입니다\n",
      "\n",
      "7번째 줄입니다.\n",
      "\n",
      "7번째 줄입니다\n",
      "\n",
      "8번째 줄입니다.\n",
      "\n",
      "8번째 줄입니다\n",
      "\n",
      "9번째 줄입니다.\n",
      "\n",
      "9번째 줄입니다\n",
      "\n",
      "10번째 줄입니다.\n",
      "\n",
      "10번째 줄입니다\n",
      "\n"
     ]
    }
   ],
   "source": [
    "f=open(\"data/test02.txt\",'r')\n",
    "while True:\n",
    "    line=f.readline()\n",
    "    if not line :break\n",
    "    print(line)\n",
    "f.close()"
   ]
  },
  {
   "cell_type": "code",
   "execution_count": 64,
   "metadata": {},
   "outputs": [
    {
     "name": "stdout",
     "output_type": "stream",
     "text": [
      "['1번째 줄입니다.\\n', '1번째 줄입니다\\n', '2번째 줄입니다.\\n', '2번째 줄입니다\\n', '3번째 줄입니다.\\n', '3번째 줄입니다\\n', '4번째 줄입니다.\\n', '4번째 줄입니다\\n', '5번째 줄입니다.\\n', '5번째 줄입니다\\n', '6번째 줄입니다.\\n', '6번째 줄입니다\\n', '7번째 줄입니다.\\n', '7번째 줄입니다\\n', '8번째 줄입니다.\\n', '8번째 줄입니다\\n', '9번째 줄입니다.\\n', '9번째 줄입니다\\n', '10번째 줄입니다.\\n', '10번째 줄입니다\\n']\n",
      "1번째 줄입니다.\n",
      "\n",
      "1번째 줄입니다\n",
      "\n",
      "2번째 줄입니다.\n",
      "\n",
      "2번째 줄입니다\n",
      "\n",
      "3번째 줄입니다.\n",
      "\n",
      "3번째 줄입니다\n",
      "\n",
      "4번째 줄입니다.\n",
      "\n",
      "4번째 줄입니다\n",
      "\n",
      "5번째 줄입니다.\n",
      "\n",
      "5번째 줄입니다\n",
      "\n",
      "6번째 줄입니다.\n",
      "\n",
      "6번째 줄입니다\n",
      "\n",
      "7번째 줄입니다.\n",
      "\n",
      "7번째 줄입니다\n",
      "\n",
      "8번째 줄입니다.\n",
      "\n",
      "8번째 줄입니다\n",
      "\n",
      "9번째 줄입니다.\n",
      "\n",
      "9번째 줄입니다\n",
      "\n",
      "10번째 줄입니다.\n",
      "\n",
      "10번째 줄입니다\n",
      "\n"
     ]
    }
   ],
   "source": [
    "f=open(\"data/test02.txt\",'r')\n",
    "\n",
    "lines=f.readlines()\n",
    "print(lines)\n",
    "for line in lines:\n",
    "    print(line)\n",
    "\n",
    "f.close()"
   ]
  },
  {
   "cell_type": "code",
   "execution_count": null,
   "metadata": {},
   "outputs": [
    {
     "name": "stdout",
     "output_type": "stream",
     "text": [
      "1번째 줄입니다.\n",
      "1번째 줄입니다\n",
      "2번째 줄입니다.\n",
      "2번째 줄입니다\n",
      "3번째 줄입니다.\n",
      "3번째 줄입니다\n",
      "4번째 줄입니다.\n",
      "4번째 줄입니다\n",
      "5번째 줄입니다.\n",
      "5번째 줄입니다\n",
      "6번째 줄입니다.\n",
      "6번째 줄입니다\n",
      "7번째 줄입니다.\n",
      "7번째 줄입니다\n",
      "8번째 줄입니다.\n",
      "8번째 줄입니다\n",
      "9번째 줄입니다.\n",
      "9번째 줄입니다\n",
      "10번째 줄입니다.\n",
      "10번째 줄입니다\n",
      "\n"
     ]
    }
   ],
   "source": [
    "f=open(\"data/test02.txt\",'r')\n",
    "data=f.read()       # 파일의 내용 전체를 문자열로 읽어 옴\n",
    "print(data)\n",
    "f.close()"
   ]
  },
  {
   "cell_type": "code",
   "execution_count": 66,
   "metadata": {},
   "outputs": [
    {
     "name": "stdout",
     "output_type": "stream",
     "text": [
      "1번째 줄입니다.\n",
      "\n",
      "1번째 줄입니다\n",
      "\n",
      "2번째 줄입니다.\n",
      "\n",
      "2번째 줄입니다\n",
      "\n",
      "3번째 줄입니다.\n",
      "\n",
      "3번째 줄입니다\n",
      "\n",
      "4번째 줄입니다.\n",
      "\n",
      "4번째 줄입니다\n",
      "\n",
      "5번째 줄입니다.\n",
      "\n",
      "5번째 줄입니다\n",
      "\n",
      "6번째 줄입니다.\n",
      "\n",
      "6번째 줄입니다\n",
      "\n",
      "7번째 줄입니다.\n",
      "\n",
      "7번째 줄입니다\n",
      "\n",
      "8번째 줄입니다.\n",
      "\n",
      "8번째 줄입니다\n",
      "\n",
      "9번째 줄입니다.\n",
      "\n",
      "9번째 줄입니다\n",
      "\n",
      "10번째 줄입니다.\n",
      "\n",
      "10번째 줄입니다\n",
      "\n"
     ]
    }
   ],
   "source": [
    "f=open(\"data/test02.txt\",'r')\n",
    "for line in f:\n",
    "    print(line)\n",
    "f.close()"
   ]
  },
  {
   "cell_type": "markdown",
   "metadata": {},
   "source": [
    "with 를 사용시 장점 : close를 하지 않아도 with을 벚어나면 파일을 닫아준다."
   ]
  },
  {
   "cell_type": "code",
   "execution_count": 67,
   "metadata": {},
   "outputs": [],
   "source": [
    "with open(\"data/foo.txt\",'w') as f:\n",
    "    f.write(\"Life is too short, you need python\")"
   ]
  },
  {
   "cell_type": "code",
   "execution_count": 68,
   "metadata": {},
   "outputs": [
    {
     "name": "stdout",
     "output_type": "stream",
     "text": [
      "Life is too short, you need python\n"
     ]
    }
   ],
   "source": [
    "with open(\"data/foo.txt\",'r') as f:\n",
    "    data=f.read()\n",
    "    print(data)"
   ]
  }
 ],
 "metadata": {
  "kernelspec": {
   "display_name": "base",
   "language": "python",
   "name": "python3"
  },
  "language_info": {
   "codemirror_mode": {
    "name": "ipython",
    "version": 3
   },
   "file_extension": ".py",
   "mimetype": "text/x-python",
   "name": "python",
   "nbconvert_exporter": "python",
   "pygments_lexer": "ipython3",
   "version": "3.12.7"
  }
 },
 "nbformat": 4,
 "nbformat_minor": 2
}
