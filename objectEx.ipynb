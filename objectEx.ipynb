{
 "cells": [
  {
   "cell_type": "markdown",
   "metadata": {},
   "source": [
    "# Class 와 Object"
   ]
  },
  {
   "cell_type": "code",
   "execution_count": 29,
   "metadata": {},
   "outputs": [],
   "source": [
    "class FourCal(object):\n",
    "    def __init__(self, num1, num2):     # 생성자\n",
    "        self.num1=num1\n",
    "        self.num2=num2\n",
    "\n",
    "    def __str__(self):                  # 객체를 프린트\n",
    "        return f'{self.num1}과 {self.num2}는 멤버 변수입니다'\n",
    "\n",
    "    def setData(self, num1, num2):\n",
    "        self.num1=num1\n",
    "        self.num2=num2\n",
    "\n",
    "    def add(self):\n",
    "        result=self.num1+self.num2\n",
    "        return result    \n",
    "    def sub(self):\n",
    "        result=self.num1-self.num2\n",
    "        return result\n",
    "    def mul(self):\n",
    "        result=self.num1*self.num2\n",
    "        return result\n",
    "    def div(self):\n",
    "        result=self.num1/self.num2\n",
    "        return result\n",
    "       "
   ]
  },
  {
   "cell_type": "code",
   "execution_count": 32,
   "metadata": {},
   "outputs": [
    {
     "name": "stdout",
     "output_type": "stream",
     "text": [
      "15과 5는 멤버 변수입니다\n",
      "20\n",
      "10\n",
      "75\n",
      "3.0\n"
     ]
    }
   ],
   "source": [
    "a=FourCal(2,1)\n",
    "a.setData(15,5)\n",
    "print(a)\n",
    "print(a.add())\n",
    "print(a.sub())\n",
    "print(a.mul())\n",
    "print(a.div())\n"
   ]
  },
  {
   "cell_type": "code",
   "execution_count": 31,
   "metadata": {},
   "outputs": [
    {
     "name": "stdout",
     "output_type": "stream",
     "text": [
      "10과 2는 멤버 변수입니다\n",
      "12\n",
      "8\n",
      "20\n",
      "5.0\n"
     ]
    }
   ],
   "source": [
    "b=FourCal(10,2)\n",
    "print(b)\n",
    "print(b.add())\n",
    "print(b.sub())\n",
    "print(b.mul())\n",
    "print(b.div())"
   ]
  },
  {
   "cell_type": "markdown",
   "metadata": {},
   "source": [
    "실습1 : SoccerPlayer 클래스 정의"
   ]
  },
  {
   "cell_type": "code",
   "execution_count": 43,
   "metadata": {},
   "outputs": [],
   "source": [
    "class SoccerPlayer(object):\n",
    "    def __init__(self, name, position, back_number):\n",
    "        self.name=name\n",
    "        self.position=position\n",
    "        self.back_number=back_number\n",
    "    def change_back_number(self, new_number):\n",
    "        print(\"선수의 등번호를 변경 : from %d to %d\"%(self.back_number, new_number))\n",
    "        self.back_number=new_number\n",
    "    def __str__(self):\n",
    "        return \"\"\"My name is %s. I play in %s in center. My back_number is %d\"\"\"%(self.name, self.position, self.back_number)\n",
    "    \n",
    "    "
   ]
  },
  {
   "cell_type": "code",
   "execution_count": 44,
   "metadata": {},
   "outputs": [
    {
     "name": "stdout",
     "output_type": "stream",
     "text": [
      "My name is G. I play in MF in center. My back_number is 10\n",
      "선수의 등번호를 변경 : from 10 to 5\n",
      "My name is G. I play in MF in center. My back_number is 5\n"
     ]
    }
   ],
   "source": [
    "g=SoccerPlayer('G',\"MF\", 10)\n",
    "print(g)\n",
    "g.change_back_number(5)\n",
    "print(g)"
   ]
  }
 ],
 "metadata": {
  "kernelspec": {
   "display_name": "base",
   "language": "python",
   "name": "python3"
  },
  "language_info": {
   "codemirror_mode": {
    "name": "ipython",
    "version": 3
   },
   "file_extension": ".py",
   "mimetype": "text/x-python",
   "name": "python",
   "nbconvert_exporter": "python",
   "pygments_lexer": "ipython3",
   "version": "3.12.7"
  }
 },
 "nbformat": 4,
 "nbformat_minor": 2
}
