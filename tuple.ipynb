{
 "cells": [
  {
   "cell_type": "markdown",
   "metadata": {},
   "source": [
    "# 튜플 (Tuple)    ()로 둘러쌈  ,  요솟값 변경 불가능 (Java 상수같은 느낌 Finaly)"
   ]
  },
  {
   "cell_type": "code",
   "execution_count": 1,
   "metadata": {},
   "outputs": [
    {
     "name": "stdout",
     "output_type": "stream",
     "text": [
      "()\n",
      "(1,)\n",
      "(1, 2, 3)\n",
      "(1, 2, 3, 4)\n",
      "(1, 2, 3, ('ab', 'cd'))\n"
     ]
    }
   ],
   "source": [
    "t1=()\n",
    "t2=(1,)\n",
    "t3=(1,2,3)\n",
    "t4=1,2,3,4\n",
    "t5=(1,2,3,('ab','cd'))\n",
    "print(t1)\n",
    "print(t2)\n",
    "print(t3)\n",
    "print(t4)\n",
    "print(t5)"
   ]
  },
  {
   "cell_type": "code",
   "execution_count": null,
   "metadata": {},
   "outputs": [
    {
     "name": "stdout",
     "output_type": "stream",
     "text": [
      "1 ('ab', 'cd')\n"
     ]
    }
   ],
   "source": [
    "print(t5[0],t5[-1])"
   ]
  },
  {
   "cell_type": "code",
   "execution_count": null,
   "metadata": {},
   "outputs": [],
   "source": [
    "# t5[0]=100      # Error\n",
    "# t1.append(10)  # AttributeError\n",
    "# t5.remove(1)   # AttributeError\n",
    "# del t5[1]      # TypeError\n"
   ]
  },
  {
   "cell_type": "code",
   "execution_count": null,
   "metadata": {},
   "outputs": [
    {
     "name": "stdout",
     "output_type": "stream",
     "text": [
      "(1, 2, 3, 1, 2, 3, ('ab', 'cd'))\n",
      "1 2 ('ab', 'cd')\n"
     ]
    }
   ],
   "source": [
    "t=t3+t5 \n",
    "print(t)\n",
    "print(t[0],t[1],t[-1]) # 인덱싱\n",
    "\n"
   ]
  },
  {
   "cell_type": "code",
   "execution_count": 19,
   "metadata": {},
   "outputs": [
    {
     "name": "stdout",
     "output_type": "stream",
     "text": [
      "(2, 3, 1, 2)\n",
      "(('ab', 'cd'), 3, 2, 1, 3, 2, 1)\n",
      "(1, 3, 2, ('ab', 'cd'))\n"
     ]
    }
   ],
   "source": [
    "print(t[1:5:1]) # 슬라이싱\n",
    "print(t[::-1])\n",
    "print(t[::2])"
   ]
  },
  {
   "cell_type": "code",
   "execution_count": 21,
   "metadata": {},
   "outputs": [
    {
     "name": "stdout",
     "output_type": "stream",
     "text": [
      "(1, 2, 3, ('ab', 'cd'), 1, 2, 3, ('ab', 'cd'))\n",
      "4\n"
     ]
    }
   ],
   "source": [
    "print(t5*2)\n",
    "print(len(t5))"
   ]
  },
  {
   "cell_type": "code",
   "execution_count": 25,
   "metadata": {},
   "outputs": [
    {
     "name": "stdout",
     "output_type": "stream",
     "text": [
      "(1, 2, 3, 1, 2, 3, ('ab', 'cd'))\n"
     ]
    }
   ],
   "source": [
    "t.count(1)\n",
    "t.index(1)\n",
    "print(t)"
   ]
  }
 ],
 "metadata": {
  "kernelspec": {
   "display_name": "base",
   "language": "python",
   "name": "python3"
  },
  "language_info": {
   "codemirror_mode": {
    "name": "ipython",
    "version": 3
   },
   "file_extension": ".py",
   "mimetype": "text/x-python",
   "name": "python",
   "nbconvert_exporter": "python",
   "pygments_lexer": "ipython3",
   "version": "3.12.7"
  }
 },
 "nbformat": 4,
 "nbformat_minor": 2
}
