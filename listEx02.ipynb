{
 "cells": [
  {
   "cell_type": "markdown",
   "metadata": {},
   "source": [
    "# 리스트 (List)   []로 둘러쌈  ,  요솟값 생성 / 삭제 / 수정 가능 "
   ]
  },
  {
   "cell_type": "code",
   "execution_count": null,
   "metadata": {},
   "outputs": [],
   "source": [
    "a=[1,2,3,4,5]\n",
    "b=[10,20,30,40,50]\n",
    "print(a[0],a[-1])\n",
    "print(a[1:3:1])\n",
    "print(a[::2])\n",
    "print(a[::-1])\n"
   ]
  },
  {
   "cell_type": "code",
   "execution_count": null,
   "metadata": {},
   "outputs": [
    {
     "name": "stdout",
     "output_type": "stream",
     "text": [
      "[1, 2, 3, 4, 5, 6]\n",
      "[1, 2, 3, 4, 5, 6, [7, 8]]\n",
      "[1, 2, 3, 4, 5, 6, [7, 8], 9, 10]\n",
      "[1, 100, 2, 3, 4, 5, 6, [7, 8], 9, 10]\n",
      "[1, 2, 3, 4, 5, 6, [7, 8], 9, 10]\n",
      "[1, 3, 4, 5, 6, [7, 8], 9, 10]\n",
      "[10, 9, [7, 8], 6, 5, 4, 3, 1]\n",
      "[10, 9, [7, 8], 6, 5, 4, 3, 1]\n"
     ]
    }
   ],
   "source": [
    "a=[1,2,3,4,5]\n",
    "a.append(6)\n",
    "print(a)\n",
    "a.append([7,8])\n",
    "print(a)\n",
    "a.extend([9,10])\n",
    "print(a)\n",
    "a.insert(1,100)\n",
    "print(a)\n",
    "del a[1]\n",
    "print(a)\n",
    "a.remove(2)\n",
    "print(a)\n",
    "print(a[::-1])\n",
    "a.reverse()     # 월래 a를 바꾸어버림\n",
    "print(a)\n"
   ]
  },
  {
   "cell_type": "code",
   "execution_count": null,
   "metadata": {},
   "outputs": [
    {
     "ename": "ValueError",
     "evalue": "11 is not in list",
     "output_type": "error",
     "traceback": [
      "\u001b[1;31m---------------------------------------------------------------------------\u001b[0m",
      "\u001b[1;31mValueError\u001b[0m                                Traceback (most recent call last)",
      "Cell \u001b[1;32mIn[17], line 2\u001b[0m\n\u001b[0;32m      1\u001b[0m a\u001b[38;5;241m.\u001b[39mindex(\u001b[38;5;241m3\u001b[39m)  \u001b[38;5;66;03m# 위치를 확인\u001b[39;00m\n\u001b[1;32m----> 2\u001b[0m a\u001b[38;5;241m.\u001b[39mindex(\u001b[38;5;241m11\u001b[39m)\n",
      "\u001b[1;31mValueError\u001b[0m: 11 is not in list"
     ]
    }
   ],
   "source": [
    "a.index(3)  # 위치를 확인\n",
    "a.index(11) # 없는값 Error\n",
    "\n"
   ]
  },
  {
   "cell_type": "code",
   "execution_count": null,
   "metadata": {},
   "outputs": [
    {
     "name": "stdout",
     "output_type": "stream",
     "text": [
      "[1, 2, 3, 4, 5]\n",
      "['aaa', 'abc', 'bbb', 'kkk']\n"
     ]
    }
   ],
   "source": [
    "a=[4,2,5,1,3]\n",
    "a.sort()\n",
    "print(a)\n",
    "s1=['aaa','abc','kkk','bbb']\n",
    "s1.sort()\n",
    "print(s1)\n"
   ]
  },
  {
   "cell_type": "code",
   "execution_count": 30,
   "metadata": {},
   "outputs": [
    {
     "name": "stdout",
     "output_type": "stream",
     "text": [
      "[10, 20, 30, 40, 50]\n",
      "50\n",
      "[10, 20, 30, 40]\n",
      "40\n",
      "[10, 20, 30]\n"
     ]
    }
   ],
   "source": [
    "b=[10,20,30,40,50]\n",
    "print(b)\n",
    "print(b.pop())\n",
    "print(b)\n",
    "print(b.pop())\n",
    "print(b)"
   ]
  },
  {
   "cell_type": "code",
   "execution_count": 35,
   "metadata": {},
   "outputs": [
    {
     "name": "stdout",
     "output_type": "stream",
     "text": [
      "[10, 20, 30, 10, 10, 10]\n",
      "4\n"
     ]
    }
   ],
   "source": [
    "b.append(10)\n",
    "print(b)\n",
    "print(b.count(10))\n"
   ]
  },
  {
   "cell_type": "code",
   "execution_count": 46,
   "metadata": {},
   "outputs": [
    {
     "name": "stdout",
     "output_type": "stream",
     "text": [
      "1\n",
      "4\n"
     ]
    }
   ],
   "source": [
    "a='''\n",
    "\"It’s amazing that we’re still here,\" passenger says, describing a fireball to left of the plane after crash\n",
    "From CNN’s Taylor Romine\n",
    "A passenger in the Toronto plane crash said “it’s amazing that we’re still here” after the plane turned upside down on the runway Monday.\n",
    "\n",
    "John Nelson told CNN he wasn’t aware anything was wrong with the plane, calling it a typical flight between Minneapolis/St. Paul and Toronto, but said he did notice gusty winds and a lot of snow on the runway as they approached.\n",
    "\n",
    "“When we hit, it was just a super hard — it hit the ground, and the plane went sideways,” Nelson said, adding that he saw “a big fireball” out of the left side of the plane.\n",
    "\n",
    "Nelson was in row 10 of the aircraft, seated in front of the wing. Once the plane stopped, Nelson said people started yelling to get out.\n",
    "\n",
    "“It was mass chaos,” he said.\n",
    "\n",
    "Nelson and his seatmate were hanging upside down when the plane came to a stop. They unbuckled themselves and landed on the ceiling of the aircraft before making a beeline for the door, the air smelling like jet fuel.\n",
    "\n",
    "“We tried to get out of there as quickly as possible,” Nelson said. “Even now I smell like jet fuel.”\n",
    "\n",
    " \n",
    "44 min ago\n",
    "“We were upside down hanging like bats,” passenger says of Toronto crash landing\n",
    "From CNN’s Taylor Romine and Amanda Jackson\n",
    "Pete Koukov, a passenger on the plane that crashed at Toronto Pearson International Airport, said that he “didn’t know anything was the matter” until they hit the ground — which he described as a pretty hard landing.\n",
    "\n",
    "“We hit the ground, and we were sideways, and then we were upside down hanging like bats,” Koukov told CNN’s Brianna Keilar.\n",
    "\n",
    "\n",
    "Koukov said he was able to unbuckle and push himself to the ground, and then walk out of the plane, but some others needed help getting down from their seats.\n",
    "\n",
    "“Just feeling lucky and happy I got to give the person I didn’t know sitting next to me a big hug, that we were OK, and see my friends who are here to pick me up from the airport and give them a big hug,” he said.\n",
    "\n",
    "\n",
    "''' \n",
    "\n",
    "arr=a.split()\n",
    "arr\n",
    "number=arr.count('CNN')\n",
    "print(number)\n",
    "\n",
    "number1=a.count('CNN')\n",
    "print(number1)"
   ]
  },
  {
   "cell_type": "markdown",
   "metadata": {},
   "source": []
  }
 ],
 "metadata": {
  "kernelspec": {
   "display_name": "base",
   "language": "python",
   "name": "python3"
  },
  "language_info": {
   "codemirror_mode": {
    "name": "ipython",
    "version": 3
   },
   "file_extension": ".py",
   "mimetype": "text/x-python",
   "name": "python",
   "nbconvert_exporter": "python",
   "pygments_lexer": "ipython3",
   "version": "3.12.7"
  }
 },
 "nbformat": 4,
 "nbformat_minor": 2
}
